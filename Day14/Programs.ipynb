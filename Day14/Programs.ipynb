{
 "cells": [
  {
   "cell_type": "code",
   "execution_count": 1,
   "id": "e2804104",
   "metadata": {},
   "outputs": [],
   "source": [
    "# Regular expression for the password\n",
    "password=\"r^(?=.*[A-Z])(?=.*[a-z])(?=.*[0-9])(?=.*[!@#$%^&*_])[\\w\\d!@#$%^&*_]{8,16}$\""
   ]
  },
  {
   "cell_type": "code",
   "execution_count": 14,
   "id": "bc044201",
   "metadata": {},
   "outputs": [
    {
     "name": "stdout",
     "output_type": "stream",
     "text": [
      "Minimum value in given array is : 6\n",
      "Maximum value in given array is : 33123\n"
     ]
    }
   ],
   "source": [
    "# Find the minimum and maximum value in given an array\n",
    "\n",
    "Array=[12,33123,21,6,3232,334,422,231]\n",
    "\n",
    "# Procedure1:\n",
    "# print(\"Minimum value of given array is: \",min(Array))  \n",
    "# print(\"Maximum value of given array is: \",max(Array))\n",
    "# Procedure2:\n",
    "minimum=Array[0]\n",
    "maximum=Array[0]\n",
    "for index in range(len(Array)):\n",
    "    if Array[index]<minimum:                                \n",
    "        minimum=Array[index]                               \n",
    "    elif Array[index]>maximum:                      \n",
    "        maximum=Array[index]                        \n",
    "print(\"Minimum value in given array is :\",minimum)\n",
    "print(\"Maximum value in given array is :\",maximum)\n",
    "        \n"
   ]
  },
  {
   "cell_type": "code",
   "execution_count": 26,
   "id": "15219afc",
   "metadata": {},
   "outputs": [
    {
     "name": "stdout",
     "output_type": "stream",
     "text": [
      "Ascending order is : [(1, 1), (2, 33), (3, 3), (4, 4)]\n",
      "Descending order is : [(4, 4), (3, 3), (2, 33), (1, 1)]\n"
     ]
    }
   ],
   "source": [
    "# Print values in dictionary in ascending order and descending order\n",
    "data={4:4,1:1,3:3,2:33}\n",
    "print(\"Ascending order is :\",sorted(data.items()))\n",
    "print(\"Descending order is :\",sorted(data.items(),reverse=True))"
   ]
  },
  {
   "cell_type": "code",
   "execution_count": 28,
   "id": "d00c2afb",
   "metadata": {},
   "outputs": [
    {
     "name": "stdout",
     "output_type": "stream",
     "text": [
      "{'Sabareesh': 30000, 'Karthik': 28000, 'Narasimha': 32000}\n"
     ]
    }
   ],
   "source": [
    "# Map two lists into dictionary\n",
    "name=[\"Sabareesh\",\"Karthik\",\"Narasimha\"]\n",
    "salary=[30000,28000,32000]\n",
    "employee=dict(zip(name,salary))\n",
    "type(employee)\n",
    "print(employee)\n",
    "\n"
   ]
  },
  {
   "cell_type": "code",
   "execution_count": 29,
   "id": "9b30091e",
   "metadata": {},
   "outputs": [
    {
     "data": {
      "text/plain": [
       "[1, 2, 3, 4, 5, 34]"
      ]
     },
     "execution_count": 29,
     "metadata": {},
     "output_type": "execute_result"
    }
   ],
   "source": [
    "# Remove duplicate values from given list\n",
    "\n",
    "def removeDuplicate(list1):\n",
    "    newList=[]\n",
    "    for i in list1:\n",
    "        if i not in newList:\n",
    "            newList.append(i)\n",
    "    return newList\n",
    "\n",
    "list1=[1,2,3,4,5,2,34,2,3]\n",
    "removeDuplicate(list1)"
   ]
  },
  {
   "cell_type": "code",
   "execution_count": 37,
   "id": "e7f7d218",
   "metadata": {},
   "outputs": [
    {
     "name": "stdout",
     "output_type": "stream",
     "text": [
      "{2, 3}\n"
     ]
    }
   ],
   "source": [
    "# Find the common elements in given two lists\n",
    "list1=[1,2,3,4,5]\n",
    "list2=[3,2,44,33,8,8]\n",
    "# o/p:2,3\n",
    "\n",
    "# commonlist = set(list1).intersection(list2)\n",
    "# print(commonlist)\n",
    "\n",
    "def commonList(list1,list2):\n",
    "    list1_set=set(list1)\n",
    "    list2_set=set(list2)\n",
    "    if(list1_set & list2_set):\n",
    "        print(list1_set & list2_set)\n",
    "    else:\n",
    "        print(\"No common elements in given two lists\")\n",
    "\n",
    "commonList(list1,list2)"
   ]
  },
  {
   "cell_type": "code",
   "execution_count": 42,
   "id": "963f1698",
   "metadata": {},
   "outputs": [
    {
     "name": "stdout",
     "output_type": "stream",
     "text": [
      "Enter a year 2005\n",
      "Enter month4\n",
      "     April 2005\n",
      "Mo Tu We Th Fr Sa Su\n",
      "             1  2  3\n",
      " 4  5  6  7  8  9 10\n",
      "11 12 13 14 15 16 17\n",
      "18 19 20 21 22 23 24\n",
      "25 26 27 28 29 30\n",
      "\n"
     ]
    }
   ],
   "source": [
    "# Print calender based up on the month and year\n",
    "\n",
    "import calendar\n",
    "\n",
    "year=int(input(\"Enter a year \"))\n",
    "month=int(input(\"Enter month\"))\n",
    "print(calendar.month(year,month))"
   ]
  },
  {
   "cell_type": "code",
   "execution_count": null,
   "id": "78fe4127",
   "metadata": {},
   "outputs": [],
   "source": []
  }
 ],
 "metadata": {
  "kernelspec": {
   "display_name": "Python 3",
   "language": "python",
   "name": "python3"
  },
  "language_info": {
   "codemirror_mode": {
    "name": "ipython",
    "version": 3
   },
   "file_extension": ".py",
   "mimetype": "text/x-python",
   "name": "python",
   "nbconvert_exporter": "python",
   "pygments_lexer": "ipython3",
   "version": "3.8.8"
  }
 },
 "nbformat": 4,
 "nbformat_minor": 5
}
