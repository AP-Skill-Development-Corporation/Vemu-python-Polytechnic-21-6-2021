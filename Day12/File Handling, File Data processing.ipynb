{
 "cells": [
  {
   "cell_type": "code",
   "execution_count": 1,
   "id": "a4fe8491",
   "metadata": {},
   "outputs": [],
   "source": [
    "# File Handling\n",
    "# File Data Processing\n"
   ]
  },
  {
   "cell_type": "markdown",
   "id": "b2aeb721",
   "metadata": {},
   "source": [
    "# File Handling\n",
    "+ It allows users to handle files\n",
    "+ File creation,read,write,to workon files\n",
    "\n",
    "# Procedure for accessing a file\n",
    "+ open file\n",
    "+ Do the set of operations\n",
    "+ close the particular file\n",
    "\n",
    "# Syntax:\n",
    " + open(fileName, Mode)\n",
    "    \n",
    "# Modes of Operations\n",
    "+ read mode - \"r\"\n",
    "+ write mode - \"w\"\n",
    "+ append mode - \"a\""
   ]
  },
  {
   "cell_type": "code",
   "execution_count": 11,
   "id": "704cec61",
   "metadata": {},
   "outputs": [
    {
     "name": "stdout",
     "output_type": "stream",
     "text": [
      "Welcome to Online Python Training Program\n",
      "with APSSDC Organization\n"
     ]
    }
   ],
   "source": [
    "# File creation\n",
    "file=open('data.txt','r') # by default the file will be opened in 'r' mode \n",
    "fileData=file.read()\n",
    "print(fileData)\n",
    "file.close()"
   ]
  },
  {
   "cell_type": "code",
   "execution_count": 15,
   "id": "94d3de12",
   "metadata": {},
   "outputs": [
    {
     "name": "stdout",
     "output_type": "stream",
     "text": [
      "Welcome to Online Python Training Program\n",
      "with APSSDC Organization\n"
     ]
    }
   ],
   "source": [
    "# with open \n",
    "# read mode -- 'r'\n",
    "with open('data.txt','r') as file:\n",
    "    fileData=file.read()\n",
    "    print(fileData)"
   ]
  },
  {
   "cell_type": "code",
   "execution_count": 16,
   "id": "6e255300",
   "metadata": {},
   "outputs": [],
   "source": [
    "# write - mode -- 'w'\n",
    "file1=open('data1.txt','w')\n",
    "fileData1=file1.write(\"This is write mode\")\n",
    "file1.close()\n"
   ]
  },
  {
   "cell_type": "code",
   "execution_count": 18,
   "id": "92fb0e58",
   "metadata": {},
   "outputs": [
    {
     "name": "stdout",
     "output_type": "stream",
     "text": [
      "This is write mode\n"
     ]
    }
   ],
   "source": [
    "with open('data1.txt','r') as file:\n",
    "    fileData=file.read()\n",
    "    print(fileData)"
   ]
  },
  {
   "cell_type": "code",
   "execution_count": 19,
   "id": "d5d51fd3",
   "metadata": {},
   "outputs": [],
   "source": [
    "file1=open('data1.txt','w')\n",
    "fileData1=file1.write(\"Data is updated \")\n",
    "file1.close()\n"
   ]
  },
  {
   "cell_type": "code",
   "execution_count": 21,
   "id": "0a50af3e",
   "metadata": {},
   "outputs": [],
   "source": [
    "file1=open('data1.txt','a')\n",
    "fileData1=file1.write(\"This is write mode\")\n",
    "file1.close()\n"
   ]
  },
  {
   "cell_type": "code",
   "execution_count": 22,
   "id": "6efb4535",
   "metadata": {},
   "outputs": [
    {
     "name": "stdout",
     "output_type": "stream",
     "text": [
      "['Vemu', 'Institute', 'Of', 'Technology']\n"
     ]
    }
   ],
   "source": [
    "s=\"Vemu Institute Of Technology\"\n",
    "print(s.split())"
   ]
  },
  {
   "cell_type": "code",
   "execution_count": 26,
   "id": "808c25e1",
   "metadata": {},
   "outputs": [
    {
     "name": "stdout",
     "output_type": "stream",
     "text": [
      "['Welcome', 'to', 'Online', 'Python', 'Training', 'Program', 'with', 'APSSDC', 'Organization']\n",
      "['Welcome to Online Python Training Program', 'with APSSDC Organization']\n"
     ]
    }
   ],
   "source": [
    "# split() and splitlines()\n",
    "file1=open('data.txt','r')\n",
    "fileData1=file1.read()\n",
    "print(fileData1.split())\n",
    "print(fileData1.splitlines())\n",
    "file1.close()\n"
   ]
  },
  {
   "cell_type": "code",
   "execution_count": 28,
   "id": "49ba2acf",
   "metadata": {},
   "outputs": [
    {
     "name": "stdout",
     "output_type": "stream",
     "text": [
      "Welcome to Online Python Training Program\n",
      "\n"
     ]
    }
   ],
   "source": [
    "# read() ,readline() and readlines()\n",
    "file1=open('data.txt','r')\n",
    "fileData1=file1.readline()\n",
    "print(fileData1)\n",
    "\n",
    "file1.close()"
   ]
  },
  {
   "cell_type": "code",
   "execution_count": 29,
   "id": "ab3e418e",
   "metadata": {},
   "outputs": [
    {
     "name": "stdout",
     "output_type": "stream",
     "text": [
      "['Welcome to Online Python Training Program\\n', 'with APSSDC Organization\\n', 'sdsa\\n', 'dsadsa\\n', 'dd\\n', 'asdsa\\n']\n"
     ]
    }
   ],
   "source": [
    "file1=open('data.txt','r')\n",
    "fileData1=file1.readlines()\n",
    "print(fileData1)\n",
    "\n",
    "file1.close()"
   ]
  },
  {
   "cell_type": "code",
   "execution_count": 32,
   "id": "e2269476",
   "metadata": {},
   "outputs": [
    {
     "name": "stdout",
     "output_type": "stream",
     "text": [
      "Welcome to Online Python Training Program\n",
      " with APSSDC Organization\n",
      " sdsa\n",
      " dsadsa\n",
      " dd\n",
      " asdsa\n",
      " "
     ]
    }
   ],
   "source": [
    "file1=open('data.txt','r')\n",
    "fileData1=file1.readlines()\n",
    "for i in fileData1:\n",
    "    print(i,end=' ')\n",
    "\n",
    "file1.close()"
   ]
  },
  {
   "cell_type": "code",
   "execution_count": 35,
   "id": "f187430d",
   "metadata": {},
   "outputs": [
    {
     "name": "stdout",
     "output_type": "stream",
     "text": [
      "6\n",
      "13\n",
      "88\n"
     ]
    }
   ],
   "source": [
    "# File data processing\n",
    "# + Working with the data in a file\n",
    "# no. of characters,words, lines in a specific text file\n",
    "file1=open('data.txt','r')\n",
    "lineCount=0\n",
    "wordCount=0\n",
    "charCount=0\n",
    "for line in file1:\n",
    "    lineCount+=1\n",
    "    wordsList=line.split()\n",
    "    wordCount +=len(wordsList)\n",
    "    charCount +=len(line)\n",
    "\n",
    "print(lineCount)\n",
    "print(wordCount)\n",
    "print(charCount)"
   ]
  },
  {
   "cell_type": "code",
   "execution_count": null,
   "id": "144bc1ab",
   "metadata": {},
   "outputs": [],
   "source": []
  }
 ],
 "metadata": {
  "kernelspec": {
   "display_name": "Python 3",
   "language": "python",
   "name": "python3"
  },
  "language_info": {
   "codemirror_mode": {
    "name": "ipython",
    "version": 3
   },
   "file_extension": ".py",
   "mimetype": "text/x-python",
   "name": "python",
   "nbconvert_exporter": "python",
   "pygments_lexer": "ipython3",
   "version": "3.8.8"
  }
 },
 "nbformat": 4,
 "nbformat_minor": 5
}
