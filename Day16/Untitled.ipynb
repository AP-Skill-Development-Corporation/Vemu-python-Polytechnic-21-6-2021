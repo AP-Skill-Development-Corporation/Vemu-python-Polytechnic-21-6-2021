{
 "cells": [
  {
   "cell_type": "markdown",
   "id": "61e29a71",
   "metadata": {},
   "source": [
    "# Inheritance\n",
    "- A class (child class or derived) which inherits or acquiring the properties of another class (parent)\n",
    "- Parent class(name,age,user()) ---> Child class (parent) \n",
    "+ Single level\n",
    "+ Multi level\n",
    "+ Multiple\n",
    "+ Hierachical "
   ]
  },
  {
   "cell_type": "code",
   "execution_count": 17,
   "id": "a8132c22",
   "metadata": {},
   "outputs": [
    {
     "name": "stdout",
     "output_type": "stream",
     "text": [
      "Kalyan\n",
      "Karthik Age is:21\n",
      "Kalyan Age is:26\n"
     ]
    }
   ],
   "source": [
    "# Single level inheriance\n",
    "class Employee:     # Super or parent or base class\n",
    "    name=\"Kalyan\"\n",
    "    age=\"26\"\n",
    "    def Info(self):\n",
    "        result=self.name+\" Age is:\"+self.age\n",
    "        print(result)\n",
    "\n",
    "class Employee1(Employee):     # sub or child or derived class\n",
    "    name1=\"Karthik\"\n",
    "    age1=\"21\"\n",
    "    def Info1(self):\n",
    "        result1=self.name1+\" Age is:\"+self.age1\n",
    "        print(result1)\n",
    "\n",
    "        \n",
    "\n",
    "user=Employee1()\n",
    "print(user.name)\n",
    "user.Info1()\n",
    "user.Info()\n"
   ]
  },
  {
   "cell_type": "code",
   "execution_count": 24,
   "id": "58c85980",
   "metadata": {},
   "outputs": [
    {
     "name": "stdout",
     "output_type": "stream",
     "text": [
      "Enter c value: 23\n",
      "Enter d value: 11\n",
      "Multiplication of 23  and  11  is  253\n",
      "Subtraction of 23  and  11  is  12\n",
      "Addition of 23  and  11  is  34\n"
     ]
    }
   ],
   "source": [
    "# Multi level inheritance\n",
    "\n",
    "# Grandfa --->Parent --> Children --> grandchildren\n",
    "# Parent1 --> child-->  grand child\n",
    "\n",
    "class Addition:\n",
    "    a=23\n",
    "    b=12\n",
    "    def  __init__(self,c,d):\n",
    "        self.c=c\n",
    "        self.d=d\n",
    "        \n",
    "    def add1(self,c,d):\n",
    "        addition=self.c+self.d\n",
    "        print(\"Addition of\",c,\" and \",d, \" is \",addition)\n",
    "        \n",
    "        \n",
    "        \n",
    "        \n",
    "class Subtraction(Addition):\n",
    "    def sub1(self,c,d):\n",
    "        subtraction=self.c-self.d\n",
    "        print(\"Subtraction of\",c,\" and \",d, \" is \",subtraction)\n",
    "        \n",
    "\n",
    "class Multiplication(Subtraction):\n",
    "    def mul1(self,c,d):\n",
    "        multiplication=self.c*self.d\n",
    "        print(\"Multiplication of\",c,\" and \",d, \" is \",multiplication)\n",
    "\n",
    "c=int(input(\"Enter c value: \"))\n",
    "d=int(input(\"Enter d value: \"))\n",
    "Obj=Multiplication(c,d)\n",
    "Obj.mul1(c,d)\n",
    "Obj.sub1(c,d)\n",
    "Obj.add1(c,d)\n",
    "\n",
    "\n",
    "\n",
    "\n",
    "\n",
    "\n",
    "\n",
    "\n"
   ]
  },
  {
   "cell_type": "code",
   "execution_count": 27,
   "id": "d90b757a",
   "metadata": {},
   "outputs": [
    {
     "name": "stdout",
     "output_type": "stream",
     "text": [
      "23 27\n",
      "This is child class\n",
      "This is parent1 class\n",
      "This is parent2 class\n"
     ]
    }
   ],
   "source": [
    "# Multiple Inheritance (2 parent classes,one child class)\n",
    "\n",
    "class Parent1:\n",
    "    a=23\n",
    "    b=27\n",
    "    print(a,b)\n",
    "    def parent1_Info(self):\n",
    "        print(\"This is parent1 class\")\n",
    "\n",
    "class Parent2:\n",
    "    def parent2_Info(self):\n",
    "        print(\"This is parent2 class\")\n",
    "    \n",
    "class child(Parent1,Parent2):\n",
    "    def child_Info(self):\n",
    "        print(\"This is child class\")\n",
    "        \n",
    "obj=child()\n",
    "obj.child_Info()\n",
    "obj.parent1_Info()\n",
    "obj.parent2_Info()  "
   ]
  },
  {
   "cell_type": "code",
   "execution_count": 35,
   "id": "1175e6c8",
   "metadata": {},
   "outputs": [
    {
     "name": "stdout",
     "output_type": "stream",
     "text": [
      "This is child1 class\n",
      "This is Parent class\n",
      "This is child2 class\n",
      "This is Parent class\n"
     ]
    }
   ],
   "source": [
    "# Hierarchical Inheritance   # 1 parent class, 2 child classes\n",
    "\n",
    "class Parent:\n",
    "    def Parent_Info(self):\n",
    "        print(\"This is Parent class\")\n",
    "    \n",
    "class child1(Parent):\n",
    "    def child1_Info(self):\n",
    "        print(\"This is child1 class\")\n",
    "\n",
    "class child2(Parent):\n",
    "    def child2_Info(self):\n",
    "        print(\"This is child2 class\")\n",
    "        \n",
    "# parent=Parent()\n",
    "# parent.Parent_Info()\n",
    "child1_Obj=child1()\n",
    "child1_Obj.child1_Info()\n",
    "child1_Obj.Parent_Info()\n",
    "\n",
    "child2_Obj=child2()\n",
    "child2_Obj.child2_Info()\n",
    "child2_Obj.Parent_Info()"
   ]
  },
  {
   "cell_type": "markdown",
   "id": "2825363f",
   "metadata": {},
   "source": [
    "# Polymorphism \n",
    "+ It is refer to implementing the same functionaly in different ways\n",
    "\n",
    "# compile time polymorphism: (method overloading)\n",
    "# runtime ploymorphism:(method overriding)"
   ]
  },
  {
   "cell_type": "code",
   "execution_count": 41,
   "id": "ca1f99e8",
   "metadata": {},
   "outputs": [
    {
     "name": "stdout",
     "output_type": "stream",
     "text": [
      "45\n",
      "45\n"
     ]
    }
   ],
   "source": [
    "# method overloading\n",
    "class Addition:\n",
    "    def add1(self,a,b,c=23):\n",
    "        print(a+b+c)\n",
    "    \n",
    "obj=Addition()\n",
    "obj.add1(21,1)\n",
    "\n",
    "class Addition1:\n",
    "    def add1(self,a,b,c):\n",
    "        print(a+b+c)\n",
    "    \n",
    "obj=Addition()\n",
    "obj.add1(21,1,23)\n"
   ]
  },
  {
   "cell_type": "code",
   "execution_count": 47,
   "id": "69b044a8",
   "metadata": {},
   "outputs": [
    {
     "name": "stdout",
     "output_type": "stream",
     "text": [
      "This is in Demo2 class\n"
     ]
    }
   ],
   "source": [
    "# Method overriding\n",
    "class Demo1:\n",
    "    def name(self):\n",
    "        print(\"This is in Demo1 class\")\n",
    "\n",
    "class Demo2(Demo1):\n",
    "    def name(self):\n",
    "        print(\"This is in Demo2 class\")\n",
    "        \n",
    "obj=Demo2()\n",
    "obj.name()\n"
   ]
  },
  {
   "cell_type": "code",
   "execution_count": null,
   "id": "4a244367",
   "metadata": {},
   "outputs": [],
   "source": []
  }
 ],
 "metadata": {
  "kernelspec": {
   "display_name": "Python 3",
   "language": "python",
   "name": "python3"
  },
  "language_info": {
   "codemirror_mode": {
    "name": "ipython",
    "version": 3
   },
   "file_extension": ".py",
   "mimetype": "text/x-python",
   "name": "python",
   "nbconvert_exporter": "python",
   "pygments_lexer": "ipython3",
   "version": "3.8.8"
  }
 },
 "nbformat": 4,
 "nbformat_minor": 5
}
