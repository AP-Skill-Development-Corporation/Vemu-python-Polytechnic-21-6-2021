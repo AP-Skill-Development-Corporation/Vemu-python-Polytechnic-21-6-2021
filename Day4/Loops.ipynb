{
 "cells": [
  {
   "cell_type": "code",
   "execution_count": 5,
   "id": "26013383",
   "metadata": {},
   "outputs": [
    {
     "name": "stdout",
     "output_type": "stream",
     "text": [
      "Enter username:  kalyan\n",
      "Enter your password:  KaLyAn789\n",
      "Loggined successfully\n"
     ]
    }
   ],
   "source": [
    "# Write a program to check logins for a website\n",
    "# if uname is ok go to password ,In case uname is wrong print invalid username\n",
    "# if uname and password match print Loggined successfully\n",
    "name=\"kalyan\"\n",
    "password=\"KaLyAn789\"\n",
    "\n",
    "uname=input(\"Enter username:  \")\n",
    "pword=input(\"Enter your password:  \")\n",
    "\n",
    "if(name==uname):\n",
    "    if(password==pword):\n",
    "        print(\"Loggined successfully\")\n",
    "    else:\n",
    "        print(\"Password is worng\")\n",
    "else:\n",
    "    print(\"Invalid UserName\")\n",
    "\n",
    "    \n",
    "Tasks:\n",
    "## Find the largest number in given 3 numbers\n",
    "## Check whether year is leap year or not\n"
   ]
  },
  {
   "cell_type": "markdown",
   "id": "03bd835d",
   "metadata": {},
   "source": [
    "# Iterations (Loops)\n",
    "\n",
    "+ To repeat the sequence of code until a specific condition false\n",
    "\n",
    "+ for\n",
    "+ while\n",
    "+ nested loops\n",
    "\n"
   ]
  },
  {
   "cell_type": "markdown",
   "id": "26324666",
   "metadata": {},
   "source": [
    "# for \n",
    "\n",
    "+ syntax: \n",
    "        + for variableName in range(start,end,step):\n",
    "                             statements//\n",
    "                                    "
   ]
  },
  {
   "cell_type": "code",
   "execution_count": 15,
   "id": "b42eb5ac",
   "metadata": {},
   "outputs": [
    {
     "name": "stdout",
     "output_type": "stream",
     "text": [
      "1\n",
      "4\n",
      "7\n",
      "10\n"
     ]
    }
   ],
   "source": [
    "# print numbers between 5 to 9 (include 9) 5 6 7 8 9 \n",
    "\n",
    "for i in range(1,10+1,3):\n",
    "    print(i)"
   ]
  },
  {
   "cell_type": "code",
   "execution_count": 23,
   "id": "5de19281",
   "metadata": {},
   "outputs": [
    {
     "name": "stdout",
     "output_type": "stream",
     "text": [
      "9 7 5 3 1 "
     ]
    }
   ],
   "source": [
    "# print numbers  9 7 5 3 1\n",
    "for i in range(9,0,-2):\n",
    "    print(i,end=' ')"
   ]
  },
  {
   "cell_type": "code",
   "execution_count": 31,
   "id": "5f4aea50",
   "metadata": {},
   "outputs": [
    {
     "name": "stdout",
     "output_type": "stream",
     "text": [
      "Enter a number5\n",
      "Sum of  5  natural numbers is  15\n"
     ]
    }
   ],
   "source": [
    "# sum of n natural numbers 5  o/p: 1+2+3+4+5=15\n",
    "\n",
    "number=int(input(\"Enter a number\"))\n",
    "sum_n=0\n",
    "for i in range(1,number+1):\n",
    "    sum_n += i\n",
    "    \n",
    "print(\"Sum of \", number, \" natural numbers is \", sum_n)\n",
    "\n",
    "\n",
    "\n",
    "\n"
   ]
  },
  {
   "cell_type": "code",
   "execution_count": 38,
   "id": "4392e27b",
   "metadata": {},
   "outputs": [
    {
     "name": "stdout",
     "output_type": "stream",
     "text": [
      "Enter table value75\n",
      "75 * 1 = 75\n",
      "75 * 2 = 150\n",
      "75 * 3 = 225\n",
      "75 * 4 = 300\n",
      "75 * 5 = 375\n",
      "75 * 6 = 450\n",
      "75 * 7 = 525\n",
      "75 * 8 = 600\n",
      "75 * 9 = 675\n",
      "75 * 10 = 750\n"
     ]
    }
   ],
   "source": [
    "# Print 5 table upto 10 rows\n",
    "# 5 * 1 = 5\n",
    "# 5 * 2 = 10\n",
    "\n",
    "n=int(input(\"Enter table value\"))\n",
    "for i in range(1,11):\n",
    "       print(n,'*', i,'=',n*i)\n",
    "\n",
    "\n",
    "\n"
   ]
  },
  {
   "cell_type": "markdown",
   "id": "8b560dc2",
   "metadata": {},
   "source": [
    "# while\n",
    "\n",
    "+ It is used to repeat a block of code or sequence as long as the condition  false\n",
    "\n",
    "+ Syntax:\n",
    "    + initialization \n",
    "    + while(condition):\n",
    "           statements //\n",
    "           increment/decrement\n",
    "           \n",
    "+  number of iterations unknown\n",
    "+  Performance is more for the while loop when compare to the for loop\n",
    "                        \n"
   ]
  },
  {
   "cell_type": "code",
   "execution_count": null,
   "id": "4634ef08",
   "metadata": {},
   "outputs": [],
   "source": [
    "# Print n natural numbers\n",
    "n=int(input(\"Enter a number\"))\n",
    "i=1\n",
    "while(i<=n):\n",
    "    print(i)\n",
    "    i +=1\n",
    "    \n"
   ]
  },
  {
   "cell_type": "code",
   "execution_count": null,
   "id": "da823ffb",
   "metadata": {},
   "outputs": [],
   "source": [
    "# Print n natural numbers\n",
    "n=int(input(\"Enter a number\"))\n",
    "i=1\n",
    "while(i<=n):\n",
    "    print(i)\n",
    "    i +=1\n",
    "# 1 2 3 4 5 6 7 8 9 10    "
   ]
  },
  {
   "cell_type": "code",
   "execution_count": null,
   "id": "6cd644ad",
   "metadata": {},
   "outputs": [],
   "source": [
    "## Find number of digits and sum in the given number\n",
    "## Print reverse of a number\n",
    "# 12345   o/P:54321\n",
    "# Given number is Armstrong or not\n",
    " # 153 1^3 + 5^3 + 3^3 =153"
   ]
  }
 ],
 "metadata": {
  "kernelspec": {
   "display_name": "Python 3",
   "language": "python",
   "name": "python3"
  },
  "language_info": {
   "codemirror_mode": {
    "name": "ipython",
    "version": 3
   },
   "file_extension": ".py",
   "mimetype": "text/x-python",
   "name": "python",
   "nbconvert_exporter": "python",
   "pygments_lexer": "ipython3",
   "version": "3.8.8"
  }
 },
 "nbformat": 4,
 "nbformat_minor": 5
}
