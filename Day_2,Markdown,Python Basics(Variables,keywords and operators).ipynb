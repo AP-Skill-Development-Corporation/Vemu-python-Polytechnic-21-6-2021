{
 "cells": [
  {
   "cell_type": "markdown",
   "id": "9881da41",
   "metadata": {},
   "source": [
    "# Heading1\n",
    "## Heading2\n",
    "### Heading3\n",
    "#### Heading4\n",
    "##### Heading5\n",
    "###### Heading6\n",
    "\n",
    "**Bold Text**\n",
    "\n",
    "*text in italic*\n",
    "\n",
    "***Text in Bold with italic style***\n",
    "\n",
    "**Unorder List**\n",
    "\n",
    "***Techologies***\n",
    "  - Frontend Technolgies\n",
    "      - HTML\n",
    "          - HyperText Markup Language\n",
    "      - CSS\n",
    "      - JavaScript\n",
    "  - Backend Technologies \n",
    "      - PHP\n",
    "      - Java\n",
    "      - Python\n",
    "     \n",
    " ***Order List***\n",
    " \n",
    " 1. DataBases\n",
    "     1. Oracle\n",
    "         1. Global Certification\n",
    "     2. MySQL\n",
    "     \n",
    " 2. Certifications\n",
    " 3. Courses\n",
    " \n",
    " \n",
    " **Links**\n",
    " \n",
    " [Python Course](https://www.udemy.com/course/python-the-complete-python-developer-course/?gclid=Cj0KCQjwlMaGBhD3ARIsAPvWd6jT8VzZiljGZiSM7iZYtPG2YSu8gyzGho512dawLjm-ipFaDniDcTMaAk77EALw_wcB&matchtype=e&utm_campaign=Python_v.PROF_la.EN_cc.INDIA_ti.7380&utm_content=deal4584&utm_medium=udemyads&utm_source=adwords&utm_term=_._ag_78980845666_._ad_463012611564_._kw_python+course_._de_c_._dm__._pl__._ti_kwd-300430981808_._li_1007740_._pd__._)\n",
    " \n",
    " **Include images**\n",
    " \n",
    " ![Logo](data:image/webp;base64,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)\n",
    " \n",
    " \n",
    " ***Include code in Document***\n",
    " \n",
    " ```\n",
    " def sample(a):\n",
    "     return a\n",
    " sample(23)\n",
    " ```\n",
    " HTML is `Frontend Technology`\n",
    " \n",
    " `\n",
    " <ul>\n",
    "    <li>List1</li>\n",
    "    <li>List2</li>\n",
    " </ul>\n",
    " `\n",
    " **Table**\n",
    " \n",
    " | EmployeeName | Age | Salary|\n",
    " |--------------|-----|-------|\n",
    " |Hima          | 19  | 25000 |\n",
    " |AllaBhakshu   | 18  | 25000|\n",
    " |Siva          | 19  | 27000|\n",
    " \n",
    " \n",
    " - esc + m --> from  code to markdown\n",
    " - esc +y  --> from markdown to code"
   ]
  },
  {
   "cell_type": "code",
   "execution_count": 11,
   "id": "7d171e32",
   "metadata": {},
   "outputs": [
    {
     "name": "stdout",
     "output_type": "stream",
     "text": [
      "Welcome to python Programming\n"
     ]
    },
    {
     "data": {
      "text/plain": [
       "'\\ndef sample(x):\\n    return x\\nsample(34)\\n'"
      ]
     },
     "execution_count": 11,
     "metadata": {},
     "output_type": "execute_result"
    }
   ],
   "source": [
    "# Python Basics\n",
    "\n",
    "### comments\n",
    "\n",
    "# print(\"Welcome to python Programming\")\n",
    "\n",
    "\"\"\"\n",
    "def sample(x):\n",
    "    return x\n",
    "sample(34)\n",
    "\"\"\"\n",
    "\n"
   ]
  },
  {
   "cell_type": "markdown",
   "id": "21ffe210",
   "metadata": {},
   "source": [
    "## Variables\n",
    "\n",
    "- Variable is used to store value in the memory\n",
    "- Variable name should start with letters or _ , but not numbers\n",
    "\n",
    "- Single variable assignment\n",
    "age=24\n",
    "print(age)\n",
    "- Multi variable assignment\n",
    "a,b,c = 12,3,\"Kalyan\"\n",
    "# a=b=c=23\n",
    "print(a)\n",
    "print(b)\n",
    "print(c)\n"
   ]
  },
  {
   "cell_type": "code",
   "execution_count": 14,
   "id": "fa25e4e1",
   "metadata": {},
   "outputs": [
    {
     "name": "stdout",
     "output_type": "stream",
     "text": [
      "12\n",
      "3\n",
      "Kalyan\n"
     ]
    }
   ],
   "source": [
    "a,b,c = 12,3,\"Kalyan\"\n",
    "print(a)\n",
    "print(b)\n",
    "print(c)"
   ]
  },
  {
   "cell_type": "code",
   "execution_count": 15,
   "id": "da2271ca",
   "metadata": {},
   "outputs": [
    {
     "name": "stdout",
     "output_type": "stream",
     "text": [
      "['False', 'None', 'True', 'and', 'as', 'assert', 'async', 'await', 'break', 'class', 'continue', 'def', 'del', 'elif', 'else', 'except', 'finally', 'for', 'from', 'global', 'if', 'import', 'in', 'is', 'lambda', 'nonlocal', 'not', 'or', 'pass', 'raise', 'return', 'try', 'while', 'with', 'yield']\n"
     ]
    }
   ],
   "source": [
    "# Keywords in python\n",
    "\n",
    "import keyword\n",
    "print(keyword.kwlist)\n",
    "\n",
    "# Cannot include keywords as variable names and function names"
   ]
  },
  {
   "cell_type": "code",
   "execution_count": 16,
   "id": "e020cd12",
   "metadata": {},
   "outputs": [
    {
     "name": "stdout",
     "output_type": "stream",
     "text": [
      "35\n"
     ]
    }
   ],
   "source": [
    "print(len(keyword.kwlist))"
   ]
  },
  {
   "cell_type": "code",
   "execution_count": 17,
   "id": "b24938fb",
   "metadata": {},
   "outputs": [
    {
     "data": {
      "text/plain": [
       "3"
      ]
     },
     "execution_count": 17,
     "metadata": {},
     "output_type": "execute_result"
    }
   ],
   "source": [
    "a=3\n",
    "a"
   ]
  },
  {
   "cell_type": "code",
   "execution_count": 25,
   "id": "210c0910",
   "metadata": {},
   "outputs": [
    {
     "name": "stdout",
     "output_type": "stream",
     "text": [
      "3\n",
      "3.0\n",
      "3\n"
     ]
    },
    {
     "data": {
      "text/plain": [
       "str"
      ]
     },
     "execution_count": 25,
     "metadata": {},
     "output_type": "execute_result"
    }
   ],
   "source": [
    "# casting\n",
    "# + Data types\n",
    "#     + int\n",
    "#     + float\n",
    "#     + str\n",
    "    \n",
    "a=int(3.2)\n",
    "b=float('3') \n",
    "c=str(3)\n",
    "print(a)\n",
    "print(b)\n",
    "print(c)\n",
    "\n",
    "type(a)\n",
    "type(b)\n",
    "type(c)"
   ]
  },
  {
   "cell_type": "markdown",
   "id": "d4b158f2",
   "metadata": {},
   "source": [
    "# Operators\n",
    "+ Arithmetic Operators\n",
    "  + `+`\n",
    "  + `-`\n",
    "  + `*`\n",
    "  + `/`\n",
    "  + `%`\n",
    "  + `//`\n",
    "\n",
    "+ Assignment Operators\n",
    "+ Logical Operators \n",
    "+ Bitwise Operators\n",
    "+ Identity Operators (--)\n",
    "+ Relational Operators\n",
    "+ Membership Operators(--)\n"
   ]
  },
  {
   "cell_type": "code",
   "execution_count": 26,
   "id": "f2444984",
   "metadata": {},
   "outputs": [
    {
     "name": "stdout",
     "output_type": "stream",
     "text": [
      "7\n"
     ]
    }
   ],
   "source": [
    "a=3\n",
    "b=4\n",
    "print(a+b)"
   ]
  },
  {
   "cell_type": "code",
   "execution_count": null,
   "id": "535038c9",
   "metadata": {},
   "outputs": [],
   "source": []
  }
 ],
 "metadata": {
  "kernelspec": {
   "display_name": "Python 3",
   "language": "python",
   "name": "python3"
  },
  "language_info": {
   "codemirror_mode": {
    "name": "ipython",
    "version": 3
   },
   "file_extension": ".py",
   "mimetype": "text/x-python",
   "name": "python",
   "nbconvert_exporter": "python",
   "pygments_lexer": "ipython3",
   "version": "3.8.8"
  }
 },
 "nbformat": 4,
 "nbformat_minor": 5
}
