{
 "cells": [
  {
   "cell_type": "code",
   "execution_count": 1,
   "id": "22512171",
   "metadata": {},
   "outputs": [
    {
     "name": "stdout",
     "output_type": "stream",
     "text": [
      "30\n"
     ]
    }
   ],
   "source": [
    "## static \n",
    "a=10\n",
    "b=20\n",
    "print(a+b)"
   ]
  },
  {
   "cell_type": "code",
   "execution_count": 7,
   "id": "118801d6",
   "metadata": {},
   "outputs": [
    {
     "name": "stdout",
     "output_type": "stream",
     "text": [
      "Enter a number3\n",
      "Enter b value22\n",
      "3\n",
      "22.0\n",
      "<class 'float'>\n"
     ]
    }
   ],
   "source": [
    "a=int(input(\"Enter a number\"))\n",
    "b=float(input(\"Enter b value\"))\n",
    "print(a)\n",
    "print(b)\n",
    "print(type(b))"
   ]
  },
  {
   "cell_type": "code",
   "execution_count": 10,
   "id": "dd9d2185",
   "metadata": {},
   "outputs": [
    {
     "name": "stdout",
     "output_type": "stream",
     "text": [
      "Enter a  value: 23\n",
      "Enter b value: 2\n",
      "Addition of  23  and  2  is  25\n",
      "21\n",
      "46\n",
      "11.5\n",
      "1\n",
      "11\n"
     ]
    }
   ],
   "source": [
    "# Arithmetic Operators\n",
    "\n",
    "a=int(input(\"Enter a  value: \"))\n",
    "b=int(input(\"Enter b value: \"))\n",
    "\n",
    "print(\"Addition of \",a,\" and \",b, \" is \",a+b)\n",
    "print(a-b)\n",
    "print(a*b)\n",
    "print(a/b)\n",
    "print(a%b)\n",
    "print(a//b)"
   ]
  },
  {
   "cell_type": "code",
   "execution_count": 14,
   "id": "95d86caf",
   "metadata": {},
   "outputs": [
    {
     "name": "stdout",
     "output_type": "stream",
     "text": [
      "Enter a  value: 12\n",
      "Enter b value: 34\n",
      "46\n"
     ]
    }
   ],
   "source": [
    "# Assignment Operators\n",
    "x=32\n",
    "y=34\n",
    "a=int(input(\"Enter a  value: \"))\n",
    "b=int(input(\"Enter b value: \"))\n",
    "\n",
    "# `+=`\n",
    "\n",
    "# a += b  # a=a+b\n",
    "# a -= b   # a=a-b\n",
    "# a *= b  # a=a*b\n",
    "# a /=b # a=a/b\n",
    "a+=b\n",
    "print(a)\n",
    "\n"
   ]
  },
  {
   "cell_type": "markdown",
   "id": "555c1565",
   "metadata": {},
   "source": [
    "# Logical operators\n",
    "\n",
    "+ and\n",
    "+ or \n",
    "+ not\n"
   ]
  },
  {
   "cell_type": "code",
   "execution_count": 19,
   "id": "6b62f82e",
   "metadata": {},
   "outputs": [
    {
     "name": "stdout",
     "output_type": "stream",
     "text": [
      "Enter a number: 3\n",
      "True\n"
     ]
    }
   ],
   "source": [
    "a=int(input(\"Enter a number: \"))\n",
    "# print(a>10 and a<100)\n",
    "# print(a>10 or a<100)\n",
    "print(not(a>10 and a<100))"
   ]
  },
  {
   "cell_type": "code",
   "execution_count": 25,
   "id": "655bc259",
   "metadata": {},
   "outputs": [
    {
     "name": "stdout",
     "output_type": "stream",
     "text": [
      "16\n",
      "27\n",
      "11\n"
     ]
    }
   ],
   "source": [
    "# Bitwise Operators\n",
    "# `&`\n",
    "a=19  # 0001 0011      128 64 32 16    8421\n",
    "b=24 #  0001 1000      1  1  1  1    1111\n",
    "print(a&b) # 0001 0000\n",
    "print(a|b) # 0001 1011   1+2+8+16=27\n",
    "print(a^b) # 0000 1011   1+2+8=11"
   ]
  },
  {
   "cell_type": "code",
   "execution_count": 28,
   "id": "6429e492",
   "metadata": {},
   "outputs": [
    {
     "name": "stdout",
     "output_type": "stream",
     "text": [
      "1\n"
     ]
    }
   ],
   "source": [
    "a=100      #  0110 0100 \n",
    "b=101      #  0110 0101\n",
    "print(a^b) #  0000 0001\n"
   ]
  },
  {
   "cell_type": "code",
   "execution_count": 32,
   "id": "109f7148",
   "metadata": {},
   "outputs": [
    {
     "name": "stdout",
     "output_type": "stream",
     "text": [
      "False\n"
     ]
    }
   ],
   "source": [
    "# Identity Operators\n",
    "\n",
    "# + is\n",
    "# + is not\n",
    "\n",
    "name=\"kalyan\"\n",
    "uname=\"kalyan\"\n",
    "print(name is not uname )"
   ]
  },
  {
   "cell_type": "markdown",
   "id": "b30e6b20",
   "metadata": {},
   "source": [
    "# Relational Operators\n",
    "\n",
    "+ ==\n",
    "+ <\n",
    "+ >\n",
    "+ !=\n",
    "+ >=\n",
    "+ <="
   ]
  },
  {
   "cell_type": "code",
   "execution_count": 39,
   "id": "812a3049",
   "metadata": {},
   "outputs": [
    {
     "name": "stdout",
     "output_type": "stream",
     "text": [
      "False\n"
     ]
    }
   ],
   "source": [
    "# Membership Operators\n",
    "# + in\n",
    "# + not in\n",
    "\n",
    "name=\"kalyan\"\n",
    "print('s'  in name)"
   ]
  },
  {
   "cell_type": "markdown",
   "id": "291104fb",
   "metadata": {},
   "source": [
    "# Conditional statements\n",
    "\n",
    "+ To execute a particular code or block,If given condition is true or false\n",
    "+ if\n",
    "+ if...else...\n",
    "+ if...elif...else\n",
    "+ nested...if"
   ]
  },
  {
   "cell_type": "code",
   "execution_count": 42,
   "id": "5e1f09a3",
   "metadata": {},
   "outputs": [
    {
     "name": "stdout",
     "output_type": "stream",
     "text": [
      "Enter a number : 230\n",
      "230 is greater than 100\n"
     ]
    }
   ],
   "source": [
    "# if\n",
    "a=int(input(\"Enter a number : \"))\n",
    "if a>100:\n",
    "    print(a, \"is greater than 100\")"
   ]
  },
  {
   "cell_type": "code",
   "execution_count": 54,
   "id": "db144848",
   "metadata": {},
   "outputs": [
    {
     "name": "stdout",
     "output_type": "stream",
     "text": [
      "Enter a number : 555\n",
      "555 is greater than 100\n"
     ]
    }
   ],
   "source": [
    "# if...else...\n",
    "a=int(input(\"Enter a number : \"))\n",
    "if a>100:\n",
    "    print(a, \"is greater than 100\")\n",
    "else:\n",
    "    print(a,\" is not greater than 100\")"
   ]
  },
  {
   "cell_type": "code",
   "execution_count": 57,
   "id": "d0140cf6",
   "metadata": {},
   "outputs": [
    {
     "name": "stdout",
     "output_type": "stream",
     "text": [
      "Enter a number35\n",
      "35  is Odd number\n"
     ]
    }
   ],
   "source": [
    "# Check the given number is even or odd number\n",
    "number=int(input(\"Enter a number\"))\n",
    "if number%2==0:\n",
    "    print(number, \"is Even number\")\n",
    "else:\n",
    "    print(number,\" is Odd number\")"
   ]
  },
  {
   "cell_type": "code",
   "execution_count": 66,
   "id": "d20a8087",
   "metadata": {},
   "outputs": [
    {
     "name": "stdout",
     "output_type": "stream",
     "text": [
      "10 is even number and  21  is odd number\n",
      "10  is even number and 21 is odd number\n",
      " even number is 10\n"
     ]
    }
   ],
   "source": [
    "# Output formating\n",
    "a=10\n",
    "b=21\n",
    "print(a, \"is even number and \",b ,\" is odd number\")\n",
    "print(\"{}  is even number and {} is odd number\".format(a,b))\n",
    "print(\" even number is %d\" %a)"
   ]
  },
  {
   "cell_type": "code",
   "execution_count": null,
   "id": "d585f9d0",
   "metadata": {},
   "outputs": [],
   "source": []
  }
 ],
 "metadata": {
  "kernelspec": {
   "display_name": "Python 3",
   "language": "python",
   "name": "python3"
  },
  "language_info": {
   "codemirror_mode": {
    "name": "ipython",
    "version": 3
   },
   "file_extension": ".py",
   "mimetype": "text/x-python",
   "name": "python",
   "nbconvert_exporter": "python",
   "pygments_lexer": "ipython3",
   "version": "3.8.8"
  }
 },
 "nbformat": 4,
 "nbformat_minor": 5
}
