{
 "cells": [
  {
   "cell_type": "markdown",
   "id": "f451bdec",
   "metadata": {},
   "source": [
    "# Strings \n",
    "\n",
    "+ String is a sequence of characters\n",
    "+ A group of characters\n",
    "+ Data shuold be defined with in `\"String\"`\n"
   ]
  },
  {
   "cell_type": "code",
   "execution_count": 2,
   "id": "1507954a",
   "metadata": {},
   "outputs": [
    {
     "name": "stdout",
     "output_type": "stream",
     "text": [
      "Python\n",
      "<class 'str'>\n"
     ]
    }
   ],
   "source": [
    "course=\"Python\"\n",
    "print(course)\n",
    "print(type(course))"
   ]
  },
  {
   "cell_type": "code",
   "execution_count": 3,
   "id": "a7978751",
   "metadata": {},
   "outputs": [
    {
     "data": {
      "text/plain": [
       "str"
      ]
     },
     "execution_count": 3,
     "metadata": {},
     "output_type": "execute_result"
    }
   ],
   "source": [
    "type(course)"
   ]
  },
  {
   "cell_type": "code",
   "execution_count": 5,
   "id": "a60d5f03",
   "metadata": {},
   "outputs": [
    {
     "name": "stdout",
     "output_type": "stream",
     "text": [
      "['__add__', '__class__', '__contains__', '__delattr__', '__dir__', '__doc__', '__eq__', '__format__', '__ge__', '__getattribute__', '__getitem__', '__getnewargs__', '__gt__', '__hash__', '__init__', '__init_subclass__', '__iter__', '__le__', '__len__', '__lt__', '__mod__', '__mul__', '__ne__', '__new__', '__reduce__', '__reduce_ex__', '__repr__', '__rmod__', '__rmul__', '__setattr__', '__sizeof__', '__str__', '__subclasshook__', 'capitalize', 'casefold', 'center', 'count', 'encode', 'endswith', 'expandtabs', 'find', 'format', 'format_map', 'index', 'isalnum', 'isalpha', 'isascii', 'isdecimal', 'isdigit', 'isidentifier', 'islower', 'isnumeric', 'isprintable', 'isspace', 'istitle', 'isupper', 'join', 'ljust', 'lower', 'lstrip', 'maketrans', 'partition', 'replace', 'rfind', 'rindex', 'rjust', 'rpartition', 'rsplit', 'rstrip', 'split', 'splitlines', 'startswith', 'strip', 'swapcase', 'title', 'translate', 'upper', 'zfill'] "
     ]
    }
   ],
   "source": [
    "print(dir(str),end=\" \")"
   ]
  },
  {
   "cell_type": "code",
   "execution_count": 10,
   "id": "99f3237d",
   "metadata": {},
   "outputs": [
    {
     "name": "stdout",
     "output_type": "stream",
     "text": [
      "h\n",
      "y\n",
      "6\n",
      "['h', 'n', 'o', 'p', 't', 'y']\n"
     ]
    }
   ],
   "source": [
    "course=\"python\"\n",
    "print(min(course))\n",
    "print(max(course))\n",
    "print(len(course))\n",
    "print(sorted(course))"
   ]
  },
  {
   "cell_type": "code",
   "execution_count": 16,
   "id": "2eacba4b",
   "metadata": {},
   "outputs": [
    {
     "name": "stdout",
     "output_type": "stream",
     "text": [
      "f\n"
     ]
    }
   ],
   "source": [
    "name=\"Rafeeq\"\n",
    "\n",
    "print(name[2])\n",
    "# o/p: f\n"
   ]
  },
  {
   "cell_type": "markdown",
   "id": "95dc6b10",
   "metadata": {},
   "source": [
    "# String slicing\n",
    "\n",
    "# Slicing 2 ways \n",
    "    + forward direction (left -->right)\n",
    "    + negative direction (right  --> left)\n",
    "\n",
    " + stringname[start:end:step]"
   ]
  },
  {
   "cell_type": "code",
   "execution_count": 47,
   "id": "0697965e",
   "metadata": {},
   "outputs": [
    {
     "name": "stdout",
     "output_type": "stream",
     "text": [
      "Institute\n",
      "Technology\n",
      "golo\n"
     ]
    }
   ],
   "source": [
    "college=\"Vemu Institute Of Technology\"\n",
    "#        01234567891011 ------------\n",
    "#                                   -4-3-2-1\n",
    "print(college[5:14])\n",
    "# Technology\n",
    "print(college[18:28])\n",
    "# euIsi\n",
    "# print(college[::1])\n",
    "# print(college[1:10:2])\n",
    "# print(college[0])\n",
    "# print(college[::-1])\n",
    "# print(college[-4:-1])\n",
    "# golo\n",
    "res=college[-5:-1]\n",
    "print(res[::-1])\n"
   ]
  },
  {
   "cell_type": "code",
   "execution_count": 48,
   "id": "b66b1967",
   "metadata": {},
   "outputs": [
    {
     "name": "stdout",
     "output_type": "stream",
     "text": [
      "['__add__', '__class__', '__contains__', '__delattr__', '__dir__', '__doc__', '__eq__', '__format__', '__ge__', '__getattribute__', '__getitem__', '__getnewargs__', '__gt__', '__hash__', '__init__', '__init_subclass__', '__iter__', '__le__', '__len__', '__lt__', '__mod__', '__mul__', '__ne__', '__new__', '__reduce__', '__reduce_ex__', '__repr__', '__rmod__', '__rmul__', '__setattr__', '__sizeof__', '__str__', '__subclasshook__', 'capitalize', 'casefold', 'center', 'count', 'encode', 'endswith', 'expandtabs', 'find', 'format', 'format_map', 'index', 'isalnum', 'isalpha', 'isascii', 'isdecimal', 'isdigit', 'isidentifier', 'islower', 'isnumeric', 'isprintable', 'isspace', 'istitle', 'isupper', 'join', 'ljust', 'lower', 'lstrip', 'maketrans', 'partition', 'replace', 'rfind', 'rindex', 'rjust', 'rpartition', 'rsplit', 'rstrip', 'split', 'splitlines', 'startswith', 'strip', 'swapcase', 'title', 'translate', 'upper', 'zfill']\n"
     ]
    }
   ],
   "source": [
    "\n",
    "print(dir(str))"
   ]
  },
  {
   "cell_type": "code",
   "execution_count": 70,
   "id": "1bc0beda",
   "metadata": {},
   "outputs": [
    {
     "name": "stdout",
     "output_type": "stream",
     "text": [
      "['vemu ', 'nst', 'tute of technology']\n"
     ]
    }
   ],
   "source": [
    "college=\"vemu institute of technology\"\n",
    "# college=\"vemu\"\n",
    "# print(college.capitalize())\n",
    "# print(college.count('i'))\n",
    "# print(college.startswith('v'))\n",
    "# print(college.endswith('y'))\n",
    "# print(college.rindex('y'))\n",
    "# print(college.isalnum())\n",
    "# print(college.isalpha())\n",
    "# print(college.title())\n",
    "print(college.split('i'))"
   ]
  },
  {
   "cell_type": "code",
   "execution_count": 75,
   "id": "8b5a15de",
   "metadata": {},
   "outputs": [
    {
     "name": "stdout",
     "output_type": "stream",
     "text": [
      "Given string is not a palindrome\n"
     ]
    }
   ],
   "source": [
    "# String palindrome\n",
    "# count a specific character in a given string\n",
    "# madam\n",
    "def Palindrome(name):\n",
    "    return name==name[::-1]\n",
    "\n",
    "name=\"121212\"\n",
    "result=Palindrome(name)\n",
    "\n",
    "if result:\n",
    "    print(\"Given string is a Palindrome\")\n",
    "else:\n",
    "    print(\"Given string is not a palindrome\")"
   ]
  },
  {
   "cell_type": "code",
   "execution_count": 84,
   "id": "59052a4c",
   "metadata": {},
   "outputs": [
    {
     "name": "stdout",
     "output_type": "stream",
     "text": [
      "Enter a character: o\n",
      "Number of occurances 3\n"
     ]
    }
   ],
   "source": [
    "# number of times occurance of a chaacter in a given string\n",
    "count=0\n",
    "character=input(\"Enter a character: \")\n",
    "for letter in college:\n",
    "    if letter==character:\n",
    "        count+=1\n",
    "    \n",
    "print(\"Number of occurances\",count)"
   ]
  },
  {
   "cell_type": "code",
   "execution_count": null,
   "id": "5d110dc9",
   "metadata": {},
   "outputs": [],
   "source": []
  }
 ],
 "metadata": {
  "kernelspec": {
   "display_name": "Python 3",
   "language": "python",
   "name": "python3"
  },
  "language_info": {
   "codemirror_mode": {
    "name": "ipython",
    "version": 3
   },
   "file_extension": ".py",
   "mimetype": "text/x-python",
   "name": "python",
   "nbconvert_exporter": "python",
   "pygments_lexer": "ipython3",
   "version": "3.8.8"
  }
 },
 "nbformat": 4,
 "nbformat_minor": 5
}
