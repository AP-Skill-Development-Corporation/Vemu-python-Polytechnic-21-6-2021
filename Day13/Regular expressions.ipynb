{
 "cells": [
  {
   "cell_type": "markdown",
   "id": "5afe14e4",
   "metadata": {},
   "source": [
    "# Regular expression\n",
    "- Regular expression is a sequence of characters that forms a search pattern\n",
    "- It can be used to check if a string contains the specified  search pattern\n",
    "- `re` module \n",
    "+ findall()\n",
    "+ search()\n",
    "+ split()\n",
    "+ sub()"
   ]
  },
  {
   "cell_type": "markdown",
   "id": "173c9dd3",
   "metadata": {},
   "source": [
    "# Metacharacters\n",
    "\n",
    "+`[0-9]`- a set of characters\n",
    "+  `\\`  - for specifice sequence\n",
    "+ `^K` - Starts with \"Kalyan\"\n",
    "+  `.` - Any character \n",
    "+ `n$`- Ends with \"kalyan\"\n",
    "+ `*` - Zero or more occurance\n",
    "+ `+` - one or more occurance\n",
    "+ `{}` - range\n",
    "+ `|` - either or"
   ]
  },
  {
   "cell_type": "code",
   "execution_count": 8,
   "id": "956c6783",
   "metadata": {},
   "outputs": [
    {
     "name": "stdout",
     "output_type": "stream",
     "text": [
      "['Well']\n",
      "Well stringd is avilabe in given string\n"
     ]
    }
   ],
   "source": [
    "# + `\\A`  - Returns a match if the specified characters are at the beggining of the string\n",
    "# + `\\b` -- Returns a match if the specified characters are at the end of the string\n",
    "# + `\\B` - - Returns a match if the specified characters are at any position in the given string\n",
    "# +  `\\d` -String should contain only digits\n",
    "# +  `\\D` - String does not contain a digits\n",
    "# + `\\w` - String should contain specific word\n",
    "# + `\\W` - String does not contain a specific word\n",
    "import re\n",
    "string=\"Wellcome to the workshop\"\n",
    "result=re.findall(r\"Well\\B\",string)\n",
    "print(result)\n",
    "\n",
    "if result:\n",
    "    print(\"Well stringd is avilabe in given string\")\n",
    "else:\n",
    "    print(\"There is no Well string\")"
   ]
  },
  {
   "cell_type": "markdown",
   "id": "929a29b9",
   "metadata": {},
   "source": [
    "# Sets\n",
    "[a-z]- \"kalyan@123\"`"
   ]
  },
  {
   "cell_type": "markdown",
   "id": "e3d7a5fd",
   "metadata": {},
   "source": [
    "# Regular expressions for Mobile number\n",
    "\n",
    "# ^[6-9][\\d]{9}$\n",
    "            \n",
    "# Regular expression for the email\n",
    "\n",
    "vemupython@gmail.com\n",
    "royal4@gmail.com\n",
    "sabareesh_123@hotmail.com\n",
    "karthik.2003@outlook.com\n",
    "karthi2004@apssdc.in\n",
    "vishwa@yahoo.com\n",
    "\n",
    "^[a-zA-Z]{2,13}[a-z0-`9_.]{2,10}[@][a-z]{5,8}[.][a-z]{2,3}$\n"
   ]
  },
  {
   "cell_type": "markdown",
   "id": "2dea7d82",
   "metadata": {},
   "source": [
    "# Implement regular expression for the password\n",
    "\n",
    "+ one number\n",
    "+ one small letter\n",
    "+ one capital letter\n",
    "+ one special character[!@#$%^&*]\n",
    "+ Password lengthbetween 8 to 16 characters\n"
   ]
  },
  {
   "cell_type": "code",
   "execution_count": null,
   "id": "7b94c3ad",
   "metadata": {},
   "outputs": [],
   "source": []
  }
 ],
 "metadata": {
  "kernelspec": {
   "display_name": "Python 3",
   "language": "python",
   "name": "python3"
  },
  "language_info": {
   "codemirror_mode": {
    "name": "ipython",
    "version": 3
   },
   "file_extension": ".py",
   "mimetype": "text/x-python",
   "name": "python",
   "nbconvert_exporter": "python",
   "pygments_lexer": "ipython3",
   "version": "3.8.8"
  }
 },
 "nbformat": 4,
 "nbformat_minor": 5
}
