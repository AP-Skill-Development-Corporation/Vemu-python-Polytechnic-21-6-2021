{
 "cells": [
  {
   "cell_type": "markdown",
   "metadata": {},
   "source": [
    "# Programs on functions"
   ]
  },
  {
   "cell_type": "code",
   "execution_count": null,
   "metadata": {},
   "outputs": [],
   "source": [
    "i/p: (1...5)\n",
    "o/p: 1 \n",
    "     4 \n",
    "     9\n",
    "    16\n",
    "    25"
   ]
  },
  {
   "cell_type": "code",
   "execution_count": 16,
   "metadata": {},
   "outputs": [
    {
     "name": "stdout",
     "output_type": "stream",
     "text": [
      "1 4 9 16 25 "
     ]
    }
   ],
   "source": [
    "def squares(n):\n",
    "    for i in range(1,n+1): #(1,5)\n",
    "        print(i**2,end=' ')  #1 2 3 4 5\n",
    "squares(5)"
   ]
  },
  {
   "cell_type": "code",
   "execution_count": 19,
   "metadata": {},
   "outputs": [
    {
     "data": {
      "text/plain": [
       "385"
      ]
     },
     "execution_count": 19,
     "metadata": {},
     "output_type": "execute_result"
    }
   ],
   "source": [
    "# print the sum of squares\n",
    "def squaressum(n):\n",
    "    s=0\n",
    "    for i in range(1,n+1):  # (1,5)  1   2        3\n",
    "        if(i<=n):       # 1<=5(T)    2<=5(T)       3<=5(T)   5<=5(T) 6<=5(F)\n",
    "            s=s+i**2    # 0+1**2=1   1+2**2=1+4=5  5+9=14.......55\n",
    "    return s\n",
    "squaressum(10)"
   ]
  },
  {
   "cell_type": "code",
   "execution_count": null,
   "metadata": {},
   "outputs": [],
   "source": [
    "# Prime number program using function\n",
    "1 and itself factors:\n",
    "    3  = 1,3\n",
    "    5 = 1,5\n",
    "    7 = 1,7\n",
    "    11= 1,11"
   ]
  },
  {
   "cell_type": "code",
   "execution_count": 28,
   "metadata": {},
   "outputs": [
    {
     "data": {
      "text/plain": [
       "False"
      ]
     },
     "execution_count": 28,
     "metadata": {},
     "output_type": "execute_result"
    }
   ],
   "source": [
    "def prime(n):\n",
    "    fc=0\n",
    "    for i in range(1,n+1): #(1,3)    2  3\n",
    "        if(n%i==0):  # 3%3=0(T)\n",
    "            fc=fc+1  # 0+1=1 1+1=2\n",
    "    if(fc==2): #2==2(T)\n",
    "        return True   #TRUE\n",
    "    else:\n",
    "        return False\n",
    "prime(4)"
   ]
  },
  {
   "cell_type": "code",
   "execution_count": 26,
   "metadata": {},
   "outputs": [
    {
     "name": "stdout",
     "output_type": "stream",
     "text": [
      "2 3 5 7 11 13 17 19 23 29 31 37 41 43 47 "
     ]
    }
   ],
   "source": [
    "def primerange(lw,up):\n",
    "    for i in range(lw,up+1):\n",
    "        if prime(i)==True:   # 1 2 3. 4....50\n",
    "            print(i,end=' ')  #2  3 \n",
    "primerange(1,50)"
   ]
  },
  {
   "cell_type": "code",
   "execution_count": 21,
   "metadata": {},
   "outputs": [
    {
     "name": "stdout",
     "output_type": "stream",
     "text": [
      "1 2 5 10 "
     ]
    }
   ],
   "source": [
    "# 15= 1 3 5 15\n",
    "def factors(n):    # 15\n",
    "    for i in range(1,n+1): #(1,15) #1  2 3 4 5 6\n",
    "        if(n%i==0):  # 15%15==0(F) \n",
    "            print(i,end=' ')  # 1  3  5  15\n",
    "factors(10)"
   ]
  },
  {
   "cell_type": "code",
   "execution_count": 36,
   "metadata": {},
   "outputs": [
    {
     "data": {
      "text/plain": [
       "True"
      ]
     },
     "execution_count": 36,
     "metadata": {},
     "output_type": "execute_result"
    }
   ],
   "source": [
    "# perfect number\n",
    "# given number=sum of factors\n",
    "# 6-- perfect number\n",
    "# 6= 1 2 3 = 1+2+3=6\n",
    "# 28= 1 2 4 7 14 =\n",
    "       # 1+2+4+7+14=28\n",
    "# 28-- perfect number\n",
    "      \n",
    "def perfect(n):\n",
    "    fs=0\n",
    "    for i in range(1,n): # (1,5)\n",
    "        if(n%i==0):  # 1 2 3  \n",
    "            fs=fs+i # fs=fs+1 = 0+1=1 1+2=3 3+3=6\n",
    "    if(fs==n):\n",
    "        return True\n",
    "    else:\n",
    "        return False\n",
    "\n",
    "perfect(28)"
   ]
  },
  {
   "cell_type": "code",
   "execution_count": 41,
   "metadata": {},
   "outputs": [
    {
     "name": "stdout",
     "output_type": "stream",
     "text": [
      "6 28 496 "
     ]
    }
   ],
   "source": [
    "def perfectrange(lw,up):\n",
    "    for i in range(lw,up):\n",
    "        if perfect(i)==True: \n",
    "            print(i,end=' ')\n",
    "perfectrange(1,1000)"
   ]
  },
  {
   "cell_type": "code",
   "execution_count": null,
   "metadata": {},
   "outputs": [],
   "source": [
    "# print all the numbers divisible by 6\n",
    "# but not divisible by 100 in a given range(1,100)"
   ]
  },
  {
   "cell_type": "code",
   "execution_count": 42,
   "metadata": {},
   "outputs": [
    {
     "name": "stdout",
     "output_type": "stream",
     "text": [
      "6 12 18 24 30 36 42 48 54 60 66 72 78 84 90 96 "
     ]
    }
   ],
   "source": [
    "def divisibleby6(s,e):\n",
    "    for i in range(s,e+1):\n",
    "        if(i%6==0 and i%100!=0):\n",
    "            print(i,end=' ')\n",
    "divisibleby6(1,100)"
   ]
  },
  {
   "cell_type": "code",
   "execution_count": null,
   "metadata": {},
   "outputs": [],
   "source": [
    "# function to calculate the average of a given range..\n",
    "# (1,10)\n",
    "# 5.5"
   ]
  },
  {
   "cell_type": "code",
   "execution_count": null,
   "metadata": {},
   "outputs": [],
   "source": [
    "i/p: s=\"ApSsDC@123&$\"\n",
    "o/p: digits count= 3\n",
    "     uppercase letters count=4\n",
    "     lowercase letters count=2\n",
    "     special characters count=3\n"
   ]
  },
  {
   "cell_type": "code",
   "execution_count": 43,
   "metadata": {},
   "outputs": [
    {
     "name": "stdout",
     "output_type": "stream",
     "text": [
      "digits count= 3\n",
      "uppercase letters count= 4\n",
      "lowercase letters count= 2\n",
      "special characters count= 3\n"
     ]
    }
   ],
   "source": [
    "s=\"ApSsDC@123&$\"\n",
    "di_c=up_c=lo_c=sp_c=0\n",
    "for i in s:\n",
    "    if(i.isdigit()):\n",
    "        di_c=di_c+1\n",
    "    elif(i.isupper()):\n",
    "        up_c=up_c+1\n",
    "    elif(i.islower()):\n",
    "        lo_c=lo_c+1\n",
    "    else:\n",
    "        sp_c=sp_c+1\n",
    "print(\"digits count=\",di_c)\n",
    "print(\"uppercase letters count=\",up_c)\n",
    "print(\"lowercase letters count=\",lo_c)\n",
    "print(\"special characters count=\",sp_c)"
   ]
  },
  {
   "cell_type": "code",
   "execution_count": null,
   "metadata": {},
   "outputs": [],
   "source": []
  }
 ],
 "metadata": {
  "kernelspec": {
   "display_name": "Python 3",
   "language": "python",
   "name": "python3"
  },
  "language_info": {
   "codemirror_mode": {
    "name": "ipython",
    "version": 3
   },
   "file_extension": ".py",
   "mimetype": "text/x-python",
   "name": "python",
   "nbconvert_exporter": "python",
   "pygments_lexer": "ipython3",
   "version": "3.7.3"
  }
 },
 "nbformat": 4,
 "nbformat_minor": 2
}
