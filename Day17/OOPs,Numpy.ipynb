{
 "cells": [
  {
   "cell_type": "code",
   "execution_count": 9,
   "id": "e994cb04",
   "metadata": {},
   "outputs": [
    {
     "name": "stdout",
     "output_type": "stream",
     "text": [
      "10\n",
      "2\n"
     ]
    },
    {
     "ename": "AttributeError",
     "evalue": "'Reactangle' object has no attribute 'height'",
     "output_type": "error",
     "traceback": [
      "\u001b[1;31m---------------------------------------------------------------------------\u001b[0m",
      "\u001b[1;31mAttributeError\u001b[0m                            Traceback (most recent call last)",
      "\u001b[1;32m<ipython-input-9-158584588b70>\u001b[0m in \u001b[0;36m<module>\u001b[1;34m\u001b[0m\n\u001b[0;32m     28\u001b[0m \u001b[1;33m\u001b[0m\u001b[0m\n\u001b[0;32m     29\u001b[0m \u001b[0mrect\u001b[0m\u001b[1;33m=\u001b[0m\u001b[0mReactangle\u001b[0m\u001b[1;33m(\u001b[0m\u001b[1;33m)\u001b[0m\u001b[1;33m\u001b[0m\u001b[1;33m\u001b[0m\u001b[0m\n\u001b[1;32m---> 30\u001b[1;33m \u001b[0mprint\u001b[0m\u001b[1;33m(\u001b[0m\u001b[0mrect\u001b[0m\u001b[1;33m.\u001b[0m\u001b[0mheight\u001b[0m\u001b[1;33m)\u001b[0m\u001b[1;33m\u001b[0m\u001b[1;33m\u001b[0m\u001b[0m\n\u001b[0m",
      "\u001b[1;31mAttributeError\u001b[0m: 'Reactangle' object has no attribute 'height'"
     ]
    }
   ],
   "source": [
    "# Encapsulation\n",
    "# + Encapsulation is the process of wrapping data(variables) and methods into single entity\n",
    "'''\n",
    "In python we can get encapsulation by private(__) and protected(_) access modifiers\n",
    "'''\n",
    "# class Reactangle:  # With out encapsulation\n",
    "#     height=0\n",
    "#     width=0\n",
    "#     def __init__(self):\n",
    "#         self.height=10\n",
    "#         self.width=2\n",
    "#         print(self.height)\n",
    "#         print(self.width)\n",
    "        \n",
    "# rect=Reactangle()\n",
    "# print(rect.height)\n",
    "\n",
    "\n",
    "# class Reactangle:    #Private access modifier\n",
    "#     __height=0\n",
    "#     __width=0\n",
    "#     def __init__(self):\n",
    "#         self.__height=10\n",
    "#         self.__width=2\n",
    "#         print(self.__height)\n",
    "#         print(self.__width)\n",
    "        \n",
    "# rect=Reactangle()\n",
    "# print(rect.height)\n",
    "\n",
    "\n",
    "class Reactangle:  # private access modifier\n",
    "    _height=0\n",
    "    _width=0\n",
    "    def __init__(self):\n",
    "        self._height=10\n",
    "        self._width=2\n",
    "        print(self._height)\n",
    "        print(self._width)\n",
    "        \n",
    "rect=Reactangle()\n",
    "print(rect.height)"
   ]
  },
  {
   "cell_type": "markdown",
   "id": "9413a0ec",
   "metadata": {},
   "source": [
    "# Abstraction\n",
    "+ Abstraction is the process of hiding the real implementation of the method by only showing a method to the user\n",
    " \n",
    "+ To create abstract class first we need to `import abc` module.\n",
    "+ After that we need to `import ABC` class as base class for abstract class.\n",
    "+ To define any method as abstract method we need to give `@abstractmethod` keyword above our abstractmethod\n",
    "\n"
   ]
  },
  {
   "cell_type": "code",
   "execution_count": 13,
   "id": "1a39fd5c",
   "metadata": {},
   "outputs": [
    {
     "name": "stdout",
     "output_type": "stream",
     "text": [
      "26\n"
     ]
    }
   ],
   "source": [
    "import abc\n",
    "\n",
    "from abc import ABC,abstractmethod\n",
    "\n",
    "# class Ab_class(ABC):\n",
    "#     def sample(self):\n",
    "#         print(\"This is normal method\")\n",
    "#     @abstractmethod\n",
    "#     def ab_sample(self):\n",
    "#         pass\n",
    "    \n",
    "# class Main(Ab_class):\n",
    "#     def ab_sample(self):\n",
    "#         print(\"This is abstract method\")\n",
    "\n",
    "# obj=Main()\n",
    "# obj.ab_sample()\n",
    "\n",
    "class Arith(ABC):\n",
    "    def __init__(self,a):\n",
    "        self.a=a\n",
    "    @abstractmethod\n",
    "    def add(self):\n",
    "        pass\n",
    "    \n",
    "class outer(Arith):\n",
    "    def add(self):\n",
    "        print(self.a+23)\n",
    "        \n",
    "obj=outer(3)\n",
    "obj.add()"
   ]
  },
  {
   "cell_type": "code",
   "execution_count": 3,
   "id": "b04d5f60",
   "metadata": {},
   "outputs": [
    {
     "name": "stdout",
     "output_type": "stream",
     "text": [
      "[  1  23 333]\n"
     ]
    }
   ],
   "source": [
    "# Numpy,Pandas and Matplotlib\n",
    "\n",
    "import numpy as np\n",
    "\n",
    "array1=np.array([1,23,333])\n",
    "print(array1)"
   ]
  },
  {
   "cell_type": "code",
   "execution_count": 11,
   "id": "e8170a87",
   "metadata": {},
   "outputs": [
    {
     "name": "stdout",
     "output_type": "stream",
     "text": [
      "[[1 2 3]\n",
      " [4 5 6]]\n"
     ]
    }
   ],
   "source": [
    "import numpy as np\n",
    "data=np.array((12,22,33))\n",
    "data1=np.array([(1,2,3),(4,5,6)])\n",
    "print(data1)"
   ]
  },
  {
   "cell_type": "code",
   "execution_count": 9,
   "id": "c6bb4fdd",
   "metadata": {},
   "outputs": [
    {
     "name": "stdout",
     "output_type": "stream",
     "text": [
      "[[1 2 3]\n",
      " [4 5 6]]\n"
     ]
    }
   ],
   "source": [
    "twodArray=np.array([[1,2,3],[4,5,6]])\n",
    "print(twodArray)"
   ]
  },
  {
   "cell_type": "code",
   "execution_count": 16,
   "id": "a094f74e",
   "metadata": {},
   "outputs": [
    {
     "name": "stdout",
     "output_type": "stream",
     "text": [
      "<class 'numpy.ndarray'>\n",
      "int32\n",
      "(2, 3)\n",
      "6\n",
      "2\n"
     ]
    }
   ],
   "source": [
    "print(type(twodArray))\n",
    "print(twodArray.dtype)\n",
    "print(twodArray.shape)\n",
    "print(twodArray.size)\n",
    "print(twodArray.ndim)"
   ]
  },
  {
   "cell_type": "code",
   "execution_count": 22,
   "id": "338acf8e",
   "metadata": {},
   "outputs": [
    {
     "name": "stdout",
     "output_type": "stream",
     "text": [
      "[0 2 4 6 8]\n"
     ]
    }
   ],
   "source": [
    "# create array using range()\n",
    "\n",
    "array1=np.array(range(0,10,2))\n",
    "print(array1)"
   ]
  },
  {
   "cell_type": "code",
   "execution_count": 29,
   "id": "b2d4d31d",
   "metadata": {},
   "outputs": [
    {
     "name": "stdout",
     "output_type": "stream",
     "text": [
      "[30.  29.5 29.  28.5 28.  27.5 27.  26.5 26.  25.5 25.  24.5 24.  23.5\n",
      " 23.  22.5 22.  21.5 21.  20.5 20.  19.5 19.  18.5 18.  17.5 17.  16.5\n",
      " 16.  15.5 15.  14.5 14.  13.5 13.  12.5 12.  11.5 11.  10.5]\n"
     ]
    }
   ],
   "source": [
    "# arange().reshape()\n",
    "print(np.arange(30,10,-0.5))"
   ]
  },
  {
   "cell_type": "code",
   "execution_count": 34,
   "id": "b4afe298",
   "metadata": {},
   "outputs": [
    {
     "name": "stdout",
     "output_type": "stream",
     "text": [
      "[[ 1  2  3  4  5  6  7  8  9 10]\n",
      " [11 12 13 14 15 16 17 18 19 20]]\n"
     ]
    }
   ],
   "source": [
    "result=np.arange(1,21).reshape(2,10)  # [4,5] [5,4] [1,20][20,1][10,2]\n",
    "print(result)"
   ]
  },
  {
   "cell_type": "code",
   "execution_count": 37,
   "id": "ffba39ad",
   "metadata": {},
   "outputs": [
    {
     "name": "stdout",
     "output_type": "stream",
     "text": [
      "[ 1.  4.  7. 10.]\n"
     ]
    }
   ],
   "source": [
    "# linspace\n",
    "print(np.linspace(1,10,4))"
   ]
  },
  {
   "cell_type": "code",
   "execution_count": 41,
   "id": "4956a63b",
   "metadata": {},
   "outputs": [
    {
     "name": "stdout",
     "output_type": "stream",
     "text": [
      "[[1. 1. 1.]\n",
      " [1. 1. 1.]]\n"
     ]
    }
   ],
   "source": [
    "# ones,zeros\n",
    "data=np.ones((2,3))\n",
    "print(data)"
   ]
  },
  {
   "cell_type": "code",
   "execution_count": 43,
   "id": "f3ff8289",
   "metadata": {},
   "outputs": [
    {
     "name": "stdout",
     "output_type": "stream",
     "text": [
      "[[0. 0. 0. 0. 0.]\n",
      " [0. 0. 0. 0. 0.]\n",
      " [0. 0. 0. 0. 0.]\n",
      " [0. 0. 0. 0. 0.]]\n"
     ]
    }
   ],
   "source": [
    "data1=np.zeros((4,5))\n",
    "print(data1)"
   ]
  },
  {
   "cell_type": "code",
   "execution_count": 45,
   "id": "fd5f9971",
   "metadata": {},
   "outputs": [
    {
     "data": {
      "text/plain": [
       "array([[24., 24., 24., 24., 24.],\n",
       "       [24., 24., 24., 24., 24.],\n",
       "       [24., 24., 24., 24., 24.],\n",
       "       [24., 24., 24., 24., 24.]])"
      ]
     },
     "execution_count": 45,
     "metadata": {},
     "output_type": "execute_result"
    }
   ],
   "source": [
    "data1.fill(24)\n",
    "data1"
   ]
  },
  {
   "cell_type": "code",
   "execution_count": 46,
   "id": "2db94b45",
   "metadata": {},
   "outputs": [
    {
     "data": {
      "text/plain": [
       "array([['1', '2', '3'],\n",
       "       ['2.3', '22.22', '4.3'],\n",
       "       ['q', 'w', 'R']], dtype='<U32')"
      ]
     },
     "execution_count": 46,
     "metadata": {},
     "output_type": "execute_result"
    }
   ],
   "source": [
    "Allresult=np.array([[1,2,3],[2.3,22.22,4.3],[\"q\",\"w\",\"R\"]])\n",
    "Allresult"
   ]
  },
  {
   "cell_type": "code",
   "execution_count": 49,
   "id": "acd8f18a",
   "metadata": {},
   "outputs": [
    {
     "data": {
      "text/plain": [
       "array([[ 1,  2,  3,  4,  5],\n",
       "       [ 6,  7,  8,  9, 10],\n",
       "       [11, 12, 13, 14, 15],\n",
       "       [16, 17, 18, 19, 20]])"
      ]
     },
     "execution_count": 49,
     "metadata": {},
     "output_type": "execute_result"
    }
   ],
   "source": [
    "# Mathematical operations\n",
    "\n",
    "ar1=np.arange(1,21).reshape(4,5)\n",
    "ar1"
   ]
  },
  {
   "cell_type": "code",
   "execution_count": 55,
   "id": "25733b17",
   "metadata": {},
   "outputs": [
    {
     "data": {
      "text/plain": [
       "array([[21, 22, 23, 24, 25],\n",
       "       [26, 27, 28, 29, 30],\n",
       "       [31, 32, 33, 34, 35],\n",
       "       [36, 37, 38, 39, 40]])"
      ]
     },
     "execution_count": 55,
     "metadata": {},
     "output_type": "execute_result"
    }
   ],
   "source": [
    "ar2=np.arange(21,41).reshape(4,5)\n",
    "ar2"
   ]
  },
  {
   "cell_type": "code",
   "execution_count": 56,
   "id": "588ff49d",
   "metadata": {},
   "outputs": [
    {
     "name": "stdout",
     "output_type": "stream",
     "text": [
      "[[22 24 26 28 30]\n",
      " [32 34 36 38 40]\n",
      " [42 44 46 48 50]\n",
      " [52 54 56 58 60]]\n"
     ]
    }
   ],
   "source": [
    "print(ar1+ar2)"
   ]
  },
  {
   "cell_type": "code",
   "execution_count": null,
   "id": "607c2c23",
   "metadata": {},
   "outputs": [],
   "source": []
  }
 ],
 "metadata": {
  "kernelspec": {
   "display_name": "Python 3",
   "language": "python",
   "name": "python3"
  },
  "language_info": {
   "codemirror_mode": {
    "name": "ipython",
    "version": 3
   },
   "file_extension": ".py",
   "mimetype": "text/x-python",
   "name": "python",
   "nbconvert_exporter": "python",
   "pygments_lexer": "ipython3",
   "version": "3.8.8"
  }
 },
 "nbformat": 4,
 "nbformat_minor": 5
}
