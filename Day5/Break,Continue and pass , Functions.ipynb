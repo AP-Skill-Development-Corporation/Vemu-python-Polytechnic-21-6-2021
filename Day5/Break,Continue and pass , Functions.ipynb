{
 "cells": [
  {
   "cell_type": "code",
   "execution_count": 11,
   "id": "8e4612c0",
   "metadata": {},
   "outputs": [
    {
     "name": "stdout",
     "output_type": "stream",
     "text": [
      "k\n",
      "a\n",
      "r\n",
      "t\n"
     ]
    }
   ],
   "source": [
    "# Jump statements\n",
    "\n",
    "# break,Continue and pass\n",
    "\n",
    "# Break - It will stop the flow of execution when a specific condition is meet\n",
    "\n",
    "name=\"karthik\"\n",
    "# print(name[6])\n",
    "# for i in name:  \n",
    "#     print(i)\n",
    "#     if(i==\"t\"):\n",
    "#         break\n",
    "\n",
    "i=0\n",
    "while True:\n",
    "    print(name[i])\n",
    "    if name[i]=='t':\n",
    "        break\n",
    "    i+=1\n",
    "    "
   ]
  },
  {
   "cell_type": "code",
   "execution_count": 12,
   "id": "7a88e265",
   "metadata": {},
   "outputs": [
    {
     "name": "stdout",
     "output_type": "stream",
     "text": [
      "1 2 3 4 5 6 7 9 "
     ]
    }
   ],
   "source": [
    "# continue\n",
    "\n",
    "for i in range (1,10):\n",
    "    if i==8:\n",
    "        continue\n",
    "    else:\n",
    "        print(i,end=' ')\n"
   ]
  },
  {
   "cell_type": "code",
   "execution_count": 13,
   "id": "8d397d2c",
   "metadata": {},
   "outputs": [
    {
     "name": "stdout",
     "output_type": "stream",
     "text": [
      "k\n",
      "a\n",
      "r\n",
      "Continue keyword is executed\n",
      "h\n",
      "i\n",
      "k\n"
     ]
    }
   ],
   "source": [
    "name='karthik'\n",
    "for letter in name:\n",
    "    if letter=='t':\n",
    "        print(\"Continue keyword is executed\")\n",
    "        continue\n",
    "    print(letter)"
   ]
  },
  {
   "cell_type": "code",
   "execution_count": 14,
   "id": "095e53c7",
   "metadata": {},
   "outputs": [
    {
     "name": "stdout",
     "output_type": "stream",
     "text": [
      "k\n",
      "a\n",
      "r\n",
      "Continue keyword is executed\n",
      "t\n",
      "h\n",
      "i\n",
      "k\n"
     ]
    }
   ],
   "source": [
    "name='karthik'\n",
    "for letter in name:\n",
    "    if letter=='t':\n",
    "        print(\"Continue keyword is executed\")\n",
    "        pass\n",
    "    print(letter)"
   ]
  },
  {
   "cell_type": "markdown",
   "id": "accb1b49",
   "metadata": {},
   "source": [
    "# Functions\n",
    "\n",
    "+ A function is a block of code which only runs when it is called\n",
    "+ We can pass data in the form parameters to a function\n",
    "+ It will return data as a result\n",
    "+ By using `def` keyword we can create function\n",
    "+ Example:\n",
    "        + `def Demo(x):\n",
    "            return x\n",
    "           Demo(4)`"
   ]
  },
  {
   "cell_type": "code",
   "execution_count": 18,
   "id": "f251da4d",
   "metadata": {},
   "outputs": [
    {
     "name": "stdout",
     "output_type": "stream",
     "text": [
      "Kalyan\n"
     ]
    }
   ],
   "source": [
    "# Function defination\n",
    "def User():\n",
    "    print(\"Kalyan\")\n",
    "\n",
    "# Function calling\n",
    "User()"
   ]
  },
  {
   "cell_type": "code",
   "execution_count": 19,
   "id": "1796adf8",
   "metadata": {},
   "outputs": [
    {
     "name": "stdout",
     "output_type": "stream",
     "text": [
      "Sahil\n"
     ]
    }
   ],
   "source": [
    "# Arguments\n",
    "# + Information can be passed to functions as arguments\n",
    "\n",
    "def uname(name):\n",
    "    print(name)\n",
    "\n",
    "uname(\"Sahil\")"
   ]
  },
  {
   "cell_type": "code",
   "execution_count": 21,
   "id": "4543ab29",
   "metadata": {},
   "outputs": [
    {
     "name": "stdout",
     "output_type": "stream",
     "text": [
      "Second employee is Sameer\n"
     ]
    }
   ],
   "source": [
    "# Arbitrary Arguments \n",
    "# + When we are passing number of arguments  to  a function ,Before the parameter include *\n",
    "\n",
    "def Employee(*emp):\n",
    "    print(\"Second employee is\",emp[1] )\n",
    "\n",
    "Employee(\"Sahil\",\"Sameer\",\"Teja\")"
   ]
  },
  {
   "cell_type": "code",
   "execution_count": 24,
   "id": "5d76a571",
   "metadata": {},
   "outputs": [
    {
     "name": "stdout",
     "output_type": "stream",
     "text": [
      "Statement of  Kalyan\n"
     ]
    }
   ],
   "source": [
    "def function_Name(name):\n",
    "    print(\"Statement of \", name)\n",
    "        \n",
    "function_Name(\"Kalyan\")"
   ]
  },
  {
   "cell_type": "code",
   "execution_count": 27,
   "id": "d0228401",
   "metadata": {},
   "outputs": [
    {
     "name": "stdout",
     "output_type": "stream",
     "text": [
      "3rd Employee  is : Sabareesh\n"
     ]
    }
   ],
   "source": [
    "# keywords arguments\n",
    "def Employees(emp1,emp2,emp3):\n",
    "    print(\"3rd Employee  is :\",emp3)\n",
    "\n",
    "Employees(emp3=\"Sabareesh\",emp2=\"Sameer\",emp1=\"Teja\")"
   ]
  },
  {
   "cell_type": "code",
   "execution_count": 31,
   "id": "41fccc60",
   "metadata": {},
   "outputs": [
    {
     "name": "stdout",
     "output_type": "stream",
     "text": [
      "Sabareesh\n",
      "Teja\n",
      "Karthik\n"
     ]
    }
   ],
   "source": [
    "def EmployeeList(elist):\n",
    "    for i in elist:\n",
    "        print(i)\n",
    "    \n",
    "    \n",
    "elist=[\"Sabareesh\",\"Teja\",\"Karthik\"]\n",
    "EmployeeList(elist)"
   ]
  },
  {
   "cell_type": "code",
   "execution_count": 30,
   "id": "f02a4d4a",
   "metadata": {},
   "outputs": [
    {
     "data": {
      "text/plain": [
       "8"
      ]
     },
     "execution_count": 30,
     "metadata": {},
     "output_type": "execute_result"
    }
   ],
   "source": [
    "def Arithmetic(a):\n",
    "    return a+5\n",
    "Arithmetic(3)"
   ]
  },
  {
   "cell_type": "code",
   "execution_count": null,
   "id": "1561286e",
   "metadata": {},
   "outputs": [],
   "source": []
  }
 ],
 "metadata": {
  "kernelspec": {
   "display_name": "Python 3",
   "language": "python",
   "name": "python3"
  },
  "language_info": {
   "codemirror_mode": {
    "name": "ipython",
    "version": 3
   },
   "file_extension": ".py",
   "mimetype": "text/x-python",
   "name": "python",
   "nbconvert_exporter": "python",
   "pygments_lexer": "ipython3",
   "version": "3.8.8"
  }
 },
 "nbformat": 4,
 "nbformat_minor": 5
}
