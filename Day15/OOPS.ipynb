{
 "cells": [
  {
   "cell_type": "markdown",
   "id": "5746d171",
   "metadata": {},
   "source": [
    "# OOP(Object Oriented Programming) in Python\n",
    "\n",
    "+ It's a different method of structuring a software program by building the properties and behaviours into individual objects\n",
    "+ It's deals with classes and objects\n",
    "## Where we can use this OOPS concept\n",
    "+ real-time systems\n",
    "+ Artificial Intelligence\n",
    "+ Expert Systems\n",
    "+ Client-server systems\n",
    "+ Object-Oriented Database\n",
    "\n",
    "## Examples of OOPS languages\n",
    "+ C++\n",
    "+ Java\n",
    "+ JavaScript\n",
    "+ Python"
   ]
  },
  {
   "cell_type": "markdown",
   "id": "669b16e7",
   "metadata": {},
   "source": [
    "# Contents of OOPS\n",
    "1. class\n",
    "2. Object\n",
    "3. Method\n",
    "4. Inheritance\n",
    "    - Single Level\n",
    "    - Multi Level\n",
    "    - Hierachical\n",
    "    - Multiple\n",
    "5. Polymorphism\n",
    "6. Data Abstraction\n",
    "7. Data Encapsulation & Data Hiding"
   ]
  },
  {
   "cell_type": "markdown",
   "id": "8183d102",
   "metadata": {},
   "source": [
    "# Class\n",
    "+ Class is collection of Objects or it is a blue print of object\n",
    "\n",
    "+ Syntax:\n",
    "    + class class_Name:\n",
    "         + variable declaration\n",
    "         + constructor method\n",
    "         + methods"
   ]
  },
  {
   "cell_type": "code",
   "execution_count": 8,
   "id": "a2aa9bc6",
   "metadata": {},
   "outputs": [
    {
     "data": {
      "text/plain": [
       "'qwe1234'"
      ]
     },
     "execution_count": 8,
     "metadata": {},
     "output_type": "execute_result"
    }
   ],
   "source": [
    "# Object \n",
    "# + Object is an istance of class that follows the class logic\n",
    "\n",
    "class Employee:\n",
    "    name=\"Kalyan\"\n",
    "    empId=\"qwe1234\"\n",
    "    \n",
    "empObj=Employee()\n",
    "empObj.name\n",
    "empObj.empId"
   ]
  },
  {
   "cell_type": "code",
   "execution_count": 19,
   "id": "92b05d6d",
   "metadata": {},
   "outputs": [
    {
     "name": "stdout",
     "output_type": "stream",
     "text": [
      "Enter a value22\n",
      "Enter b value22\n",
      "Addition of a and b is:  44\n",
      "None\n",
      "34\n",
      "23\n"
     ]
    }
   ],
   "source": [
    "class Arithmetic:\n",
    "    x=34\n",
    "    y=23\n",
    "    result=0\n",
    "    def __init__(self,a,b):\n",
    "        self.result=a+b\n",
    "        \n",
    "    def Addition(self):\n",
    "        print(\"Addition of a and b is: \",self.result)\n",
    " \n",
    "a=int(input(\"Enter a value\"))\n",
    "b=int(input(\"Enter b value\"))\n",
    "finalResult=Arithmetic(a,b)\n",
    "print(finalResult.Addition())\n",
    "print(finalResult.x)\n",
    "print(finalResult.y)"
   ]
  },
  {
   "cell_type": "code",
   "execution_count": null,
   "id": "dd949091",
   "metadata": {},
   "outputs": [],
   "source": []
  }
 ],
 "metadata": {
  "kernelspec": {
   "display_name": "Python 3",
   "language": "python",
   "name": "python3"
  },
  "language_info": {
   "codemirror_mode": {
    "name": "ipython",
    "version": 3
   },
   "file_extension": ".py",
   "mimetype": "text/x-python",
   "name": "python",
   "nbconvert_exporter": "python",
   "pygments_lexer": "ipython3",
   "version": "3.8.8"
  }
 },
 "nbformat": 4,
 "nbformat_minor": 5
}
